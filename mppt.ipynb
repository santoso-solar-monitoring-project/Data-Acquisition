{
 "cells": [
  {
   "cell_type": "code",
   "execution_count": null,
   "metadata": {},
   "outputs": [],
   "source": [
    "def read_new_values()\n",
    "    v = read\n",
    "    i = read\n",
    "    p = v*i\n",
    "\n",
    "def update_old_values()\n",
    "    v_old = v\n",
    "    i_old = i\n",
    "    p_old = p\n",
    "\n",
    "def mppt_perturb_observe():\n",
    "    read_new_values()\n",
    "    \n",
    "    if (p > p_old):\n",
    "        if (v > v_old):\n",
    "            i_future = i+inc\n",
    "        else:\n",
    "            i_future = i-inc\n",
    "    else:\n",
    "        if (v > v_old):\n",
    "            i_future = i-inc\n",
    "        else:\n",
    "            i_future = i+inc\n",
    "            \n",
    "    update_old_values()\n",
    "    \n",
    "def mppt_incremental_conductance():\n",
    "    read_new_values()\n",
    "    \n",
    "    if (v == v_old):\n",
    "        if (i == i_old):\n",
    "            pass\n",
    "        elif (i > i_old):\n",
    "            i_future = i + inc\n",
    "        else:\n",
    "            i_future = i - inc\n",
    "    else:\n",
    "        dI_dV = (i-i_old)/(v-v_old)\n",
    "        var = -i/v\n",
    "        if (dI_dV == var):\n",
    "            pass\n",
    "        elif (dI_dV > var):\n",
    "            i_future = i + inc\n",
    "        else:\n",
    "            i_future = i - inc\n",
    "            \n",
    "    update_old_values()"
   ]
  }
 ],
 "metadata": {
  "kernelspec": {
   "display_name": "Python 3",
   "language": "python",
   "name": "python3"
  },
  "language_info": {
   "codemirror_mode": {
    "name": "ipython",
    "version": 3
   },
   "file_extension": ".py",
   "mimetype": "text/x-python",
   "name": "python",
   "nbconvert_exporter": "python",
   "pygments_lexer": "ipython3",
   "version": "3.6.5"
  }
 },
 "nbformat": 4,
 "nbformat_minor": 2
}
